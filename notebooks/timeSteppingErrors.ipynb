{
 "cells": [
  {
   "cell_type": "markdown",
   "id": "aad61c6c-da81-427f-b3f9-1a60ea1dc0b6",
   "metadata": {},
   "source": [
    "To investigate time stepping errors I have been looking at the 1d linear advection equation, modified to include oscillatory behaviour. This is given in Equation 1.\n",
    "\n",
    "\\begin{align}\n",
    "\\frac{\\partial \\phi}{\\partial t} + u \\frac{\\partial \\phi}{\\partial x} = iN \\phi\n",
    "\\end{align}\n",
    "\n",
    "For simplicity, the advecting velocity is set to zero, such that Equation 1 becomes:\n",
    "\n",
    "\\begin{align}\n",
    "\\frac{\\partial \\phi}{\\partial t} = iN \\phi\n",
    "\\end{align}"
   ]
  }
 ],
 "metadata": {
  "kernelspec": {
   "display_name": "Python 3 (ipykernel)",
   "language": "python",
   "name": "python3"
  },
  "language_info": {
   "codemirror_mode": {
    "name": "ipython",
    "version": 3
   },
   "file_extension": ".py",
   "mimetype": "text/x-python",
   "name": "python",
   "nbconvert_exporter": "python",
   "pygments_lexer": "ipython3",
   "version": "3.11.5"
  }
 },
 "nbformat": 4,
 "nbformat_minor": 5
}
