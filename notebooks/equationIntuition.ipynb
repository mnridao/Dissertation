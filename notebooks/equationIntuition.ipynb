{
 "cells": [
  {
   "cell_type": "markdown",
   "id": "a98c03f6-b1b4-4ac6-86b3-d328af4bff77",
   "metadata": {},
   "source": [
    "### 1. Oscillation term\n"
   ]
  },
  {
   "cell_type": "markdown",
   "id": "d4f06b99-d581-47bf-86dc-ada8442185cd",
   "metadata": {},
   "source": [
    "#### 1.1 No advection"
   ]
  },
  {
   "cell_type": "markdown",
   "id": "c17e33d1-171e-47ff-82ca-a75eeda7d02c",
   "metadata": {},
   "source": [
    "#### 1.2 Advection"
   ]
  },
  {
   "cell_type": "markdown",
   "id": "adf1d539-0973-4c0a-80c7-7b4f29860288",
   "metadata": {},
   "source": [
    "### 2. Streamfunction term"
   ]
  },
  {
   "cell_type": "markdown",
   "id": "14e93851-fb04-4d41-a7d6-66aae319f4d3",
   "metadata": {},
   "source": [
    "#### 2.1 No advection"
   ]
  },
  {
   "cell_type": "markdown",
   "id": "9e19c257-e86f-449e-ad0a-5c5e20b8c13a",
   "metadata": {},
   "source": [
    "#### 2.2 Advection"
   ]
  },
  {
   "cell_type": "markdown",
   "id": "3e74c2e4-0040-41c4-bb53-762a3ea138a5",
   "metadata": {},
   "source": [
    "### 3. Other Parameters"
   ]
  },
  {
   "cell_type": "markdown",
   "id": "82315ada-fc24-4113-9871-ef22e8169c60",
   "metadata": {},
   "source": [
    "#### 3. Brunt Vaisalla"
   ]
  }
 ],
 "metadata": {
  "kernelspec": {
   "display_name": "Python 3 (ipykernel)",
   "language": "python",
   "name": "python3"
  },
  "language_info": {
   "codemirror_mode": {
    "name": "ipython",
    "version": 3
   },
   "file_extension": ".py",
   "mimetype": "text/x-python",
   "name": "python",
   "nbconvert_exporter": "python",
   "pygments_lexer": "ipython3",
   "version": "3.11.5"
  }
 },
 "nbformat": 4,
 "nbformat_minor": 5
}
