{
 "cells": [
  {
   "cell_type": "markdown",
   "id": "aad61c6c-da81-427f-b3f9-1a60ea1dc0b6",
   "metadata": {},
   "source": [
    "To investigate time stepping errors I have been looking at the 1d linear advection equation, modified to include oscillatory behaviour. This is given in Equation 1.\n",
    "\n",
    "\\begin{align}\n",
    "\\frac{\\partial \\phi}{\\partial t} + u \\frac{\\partial \\phi}{\\partial x} = iN \\phi\n",
    "\\end{align}\n",
    "\n",
    "For simplicity, the advecting velocity is set to zero, such that Equation 1 becomes:\n",
    "\n",
    "\\begin{align}\n",
    "\\frac{\\partial \\phi}{\\partial t} = iN \\phi\n",
    "\\end{align}"
   ]
  },
  {
   "cell_type": "code",
   "execution_count": 2,
   "id": "076e6d2b-c930-4b23-a53f-9e039c6a7d09",
   "metadata": {
    "tags": []
   },
   "outputs": [],
   "source": [
    "import os\n",
    "\n",
    "import numpy as np\n",
    "\n",
    "os.chdir(\"..\")\n",
    "import pythonCode.plotters as plotters\n",
    "import pythonCode.helpers as helpers\n",
    "import pythonCode.analyticalSolutions as analy\n",
    "from pythonCode.sourceterms import PsiParameters"
   ]
  },
  {
   "cell_type": "markdown",
   "id": "89640a0f-6348-456e-a1fd-874b7806baff",
   "metadata": {},
   "source": [
    "Set up the solver. Parameters are scaled down."
   ]
  },
  {
   "cell_type": "code",
   "execution_count": 3,
   "id": "e4f10133-fff3-4f01-98c1-42dafd674874",
   "metadata": {
    "tags": []
   },
   "outputs": [],
   "source": [
    "    # Setup solver.\n",
    "    params = PsiParameters()\n",
    "    params.N = 0.005\n",
    "    T = 2*np.pi/params.N # Period of oscillation\n",
    "    endtime = T \n",
    "    dt = 0.5\n",
    "    solver = helpers.setupSolver(xbounds=[0, 10], dx=10e-2, \n",
    "                                  endtime=endtime, dt=dt, schemeKey=1, \n",
    "                                  sPhiCoeffFlag=True, sFuncFlag=False,\n",
    "                                  params=params)\n",
    "    \n",
    "    # Initial condition.\n",
    "    u = 0.\n",
    "    solver.model.grid.phi = analy.analyticalSolution1(0, helpers.middleWaveIC, \n",
    "                                                      u, solver)\n",
    "        \n",
    "    # Add analytical solution that will be evaluated each iteration.\n",
    "    solver.addCustomEquation(\"analytic\", analy.analyticalSolution1, \n",
    "                              args=(helpers.middleWaveIC, u, solver), \n",
    "                              nres=solver.model.grid.phi.shape[0],\n",
    "                              store=True)\n",
    "    \n",
    "    # Add plotter.\n",
    "    solver.plotResults = False\n",
    "\n",
    "    # Run the solver.\n",
    "    solver.store = True\n",
    "    solver.run(u)"
   ]
  },
  {
   "cell_type": "markdown",
   "id": "6e8f2b15-0fd8-4237-86d7-4af6e6b6a2a5",
   "metadata": {},
   "source": [
    "I now change the timestep resolution from $\\Delta t=50s$ to $\\Delta t=0.1s$ (see cell below). No advection so don't need to worry about stability."
   ]
  },
  {
   "cell_type": "code",
   "execution_count": null,
   "id": "0c5f9abc-146a-4f5c-9462-4e6480f9b433",
   "metadata": {},
   "outputs": [],
   "source": [
    "    endtime = 2500\n",
    "    dts = np.array([50, 10, 5, 1, 0.5, 0.1])\n",
    "    \n",
    "    errorsIm = np.zeros_like(dts)\n",
    "    errorsRe = np.zeros_like(dts)\n",
    "    \n",
    "    # Iterate through the different time resolutions.\n",
    "    for i, dti in enumerate(dts):\n",
    "        \n",
    "        # Reset Initial condition.\n",
    "        solver.model.grid.phi = helpers.setInitialCondition(\"a1\", solver)\n",
    "            \n",
    "        # Change the timestep.\n",
    "        solver.setNewTimestep(dti, endtime)\n",
    "        \n",
    "        # Run the solver.\n",
    "        solver.run(u)\n",
    "        \n",
    "        ## Calculate error ##\n",
    "        phiA = solver.getCustomData(\"analytic\")\n",
    "        phiN = solver.model.grid.phi\n",
    "        \n",
    "        errorsIm[i] = helpers.l2(phiN.imag, phiA.imag, solver.dt)\n",
    "        errorsRe[i] = helpers.l2(phiN.real, phiA.real, solver.dt)"
   ]
  }
 ],
 "metadata": {
  "kernelspec": {
   "display_name": "Python 3 (ipykernel)",
   "language": "python",
   "name": "python3"
  },
  "language_info": {
   "codemirror_mode": {
    "name": "ipython",
    "version": 3
   },
   "file_extension": ".py",
   "mimetype": "text/x-python",
   "name": "python",
   "nbconvert_exporter": "python",
   "pygments_lexer": "ipython3",
   "version": "3.11.5"
  }
 },
 "nbformat": 4,
 "nbformat_minor": 5
}
